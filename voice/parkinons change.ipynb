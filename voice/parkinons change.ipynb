{
  "cells": [
    {
      "cell_type": "markdown",
      "metadata": {},
      "source": [
        "# Parkinsons Disease\n",
        "The objective is to find a model which will be able to predict whether a person is likely to have parkinsons disease or not given their medical records. \n",
        "___\n",
        "\n",
        "## Model Performamce\n",
        "Accuracy, F1-Score and Recall were the metrics used to evaluate the performance of the model\n",
        "\n",
        "| Method  Used  |  Accuracy of model (%)  | F1-Score of model (%) | Recall of model(%) |\n",
        "|-----------|---------|-----------|---------|\n",
        "| **Random Forest**   | **97.44**   | **98.41** | **100.00** |\n",
        "| XGBoost | 89.74   | 93.94 | **100.00** |\n",
        "| SVM | 89.74   | 93.33 | 90.32 |\n",
        "___\n",
        "\n",
        "### Steps to Solve Problem\n",
        "* Import Dataset and Libraries\n",
        "* Data Preprocessing\n",
        "    * Train / Test Data split\n",
        "    * Missing Data Imputation\n",
        "    * Outlier Handling\n",
        "    * Feature Scaling\n",
        "    * Imbalanced Data\n",
        "* Model Build\n",
        "    * Model Initiation and Fitting\n",
        "    * Test predictions\n",
        "* Model Perfromance\n",
        "    * Recall\n",
        "    * Case Prediction\n",
        "        \n"
      ]
    },
    {
      "cell_type": "markdown",
      "metadata": {},
      "source": [
        "### Import Libraries and Dataset"
      ]
    },
    {
      "cell_type": "markdown",
      "metadata": {},
      "source": [
        "This paper focuses on the comparative study of the 3 machine learning algorithms ie; Random Forest , XGBoost and SVM and thus finding the most accurate algorithm for the prediction of presence of parkinsons disease and creating the model for the same."
      ]
    },
    {
      "cell_type": "code",
      "execution_count": 328,
      "metadata": {},
      "outputs": [],
      "source": [
        "import pandas as pd # for data manipulation\n",
        "import numpy as np # for numerical analysis\n",
        "\n",
        "# For plottling graphs\n",
        "import seaborn as sns \n",
        "import matplotlib.pyplot as plt\n",
        "\n",
        "# for saving tools\n",
        "import joblib"
      ]
    },
    {
      "cell_type": "code",
      "execution_count": 329,
      "metadata": {},
      "outputs": [],
      "source": [
        "# Setting Plotting Settings\n",
        "%matplotlib inline\n",
        "sns.set_style(\"darkgrid\")"
      ]
    },
    {
      "cell_type": "markdown",
      "metadata": {},
      "source": [
        "Import Dataset"
      ]
    },
    {
      "cell_type": "code",
      "execution_count": 330,
      "metadata": {},
      "outputs": [],
      "source": [
        "parkinsons = pd.read_csv(\"parkinsons.csv\")"
      ]
    },
    {
      "cell_type": "code",
      "execution_count": 331,
      "metadata": {},
      "outputs": [
        {
          "data": {
            "text/html": [
              "<div>\n",
              "<style scoped>\n",
              "    .dataframe tbody tr th:only-of-type {\n",
              "        vertical-align: middle;\n",
              "    }\n",
              "\n",
              "    .dataframe tbody tr th {\n",
              "        vertical-align: top;\n",
              "    }\n",
              "\n",
              "    .dataframe thead th {\n",
              "        text-align: right;\n",
              "    }\n",
              "</style>\n",
              "<table border=\"1\" class=\"dataframe\">\n",
              "  <thead>\n",
              "    <tr style=\"text-align: right;\">\n",
              "      <th></th>\n",
              "      <th>name</th>\n",
              "      <th>MDVP:Fo(Hz)</th>\n",
              "      <th>MDVP:Fhi(Hz)</th>\n",
              "      <th>MDVP:Flo(Hz)</th>\n",
              "      <th>MDVP:Jitter(%)</th>\n",
              "      <th>MDVP:Jitter(Abs)</th>\n",
              "      <th>MDVP:RAP</th>\n",
              "      <th>MDVP:PPQ</th>\n",
              "      <th>Jitter:DDP</th>\n",
              "      <th>MDVP:Shimmer</th>\n",
              "      <th>...</th>\n",
              "      <th>Shimmer:DDA</th>\n",
              "      <th>NHR</th>\n",
              "      <th>HNR</th>\n",
              "      <th>status</th>\n",
              "      <th>RPDE</th>\n",
              "      <th>DFA</th>\n",
              "      <th>spread1</th>\n",
              "      <th>spread2</th>\n",
              "      <th>D2</th>\n",
              "      <th>PPE</th>\n",
              "    </tr>\n",
              "  </thead>\n",
              "  <tbody>\n",
              "    <tr>\n",
              "      <th>0</th>\n",
              "      <td>phon_R01_S01_1</td>\n",
              "      <td>119.992</td>\n",
              "      <td>157.302</td>\n",
              "      <td>74.997</td>\n",
              "      <td>0.00784</td>\n",
              "      <td>0.00007</td>\n",
              "      <td>0.00370</td>\n",
              "      <td>0.00554</td>\n",
              "      <td>0.01109</td>\n",
              "      <td>0.04374</td>\n",
              "      <td>...</td>\n",
              "      <td>0.06545</td>\n",
              "      <td>0.02211</td>\n",
              "      <td>21.033</td>\n",
              "      <td>1</td>\n",
              "      <td>0.414783</td>\n",
              "      <td>0.815285</td>\n",
              "      <td>-4.813031</td>\n",
              "      <td>0.266482</td>\n",
              "      <td>2.301442</td>\n",
              "      <td>0.284654</td>\n",
              "    </tr>\n",
              "    <tr>\n",
              "      <th>1</th>\n",
              "      <td>phon_R01_S01_2</td>\n",
              "      <td>122.400</td>\n",
              "      <td>148.650</td>\n",
              "      <td>113.819</td>\n",
              "      <td>0.00968</td>\n",
              "      <td>0.00008</td>\n",
              "      <td>0.00465</td>\n",
              "      <td>0.00696</td>\n",
              "      <td>0.01394</td>\n",
              "      <td>0.06134</td>\n",
              "      <td>...</td>\n",
              "      <td>0.09403</td>\n",
              "      <td>0.01929</td>\n",
              "      <td>19.085</td>\n",
              "      <td>1</td>\n",
              "      <td>0.458359</td>\n",
              "      <td>0.819521</td>\n",
              "      <td>-4.075192</td>\n",
              "      <td>0.335590</td>\n",
              "      <td>2.486855</td>\n",
              "      <td>0.368674</td>\n",
              "    </tr>\n",
              "    <tr>\n",
              "      <th>2</th>\n",
              "      <td>phon_R01_S01_3</td>\n",
              "      <td>116.682</td>\n",
              "      <td>131.111</td>\n",
              "      <td>111.555</td>\n",
              "      <td>0.01050</td>\n",
              "      <td>0.00009</td>\n",
              "      <td>0.00544</td>\n",
              "      <td>0.00781</td>\n",
              "      <td>0.01633</td>\n",
              "      <td>0.05233</td>\n",
              "      <td>...</td>\n",
              "      <td>0.08270</td>\n",
              "      <td>0.01309</td>\n",
              "      <td>20.651</td>\n",
              "      <td>1</td>\n",
              "      <td>0.429895</td>\n",
              "      <td>0.825288</td>\n",
              "      <td>-4.443179</td>\n",
              "      <td>0.311173</td>\n",
              "      <td>2.342259</td>\n",
              "      <td>0.332634</td>\n",
              "    </tr>\n",
              "    <tr>\n",
              "      <th>3</th>\n",
              "      <td>phon_R01_S01_4</td>\n",
              "      <td>116.676</td>\n",
              "      <td>137.871</td>\n",
              "      <td>111.366</td>\n",
              "      <td>0.00997</td>\n",
              "      <td>0.00009</td>\n",
              "      <td>0.00502</td>\n",
              "      <td>0.00698</td>\n",
              "      <td>0.01505</td>\n",
              "      <td>0.05492</td>\n",
              "      <td>...</td>\n",
              "      <td>0.08771</td>\n",
              "      <td>0.01353</td>\n",
              "      <td>20.644</td>\n",
              "      <td>1</td>\n",
              "      <td>0.434969</td>\n",
              "      <td>0.819235</td>\n",
              "      <td>-4.117501</td>\n",
              "      <td>0.334147</td>\n",
              "      <td>2.405554</td>\n",
              "      <td>0.368975</td>\n",
              "    </tr>\n",
              "    <tr>\n",
              "      <th>4</th>\n",
              "      <td>phon_R01_S01_5</td>\n",
              "      <td>116.014</td>\n",
              "      <td>141.781</td>\n",
              "      <td>110.655</td>\n",
              "      <td>0.01284</td>\n",
              "      <td>0.00011</td>\n",
              "      <td>0.00655</td>\n",
              "      <td>0.00908</td>\n",
              "      <td>0.01966</td>\n",
              "      <td>0.06425</td>\n",
              "      <td>...</td>\n",
              "      <td>0.10470</td>\n",
              "      <td>0.01767</td>\n",
              "      <td>19.649</td>\n",
              "      <td>1</td>\n",
              "      <td>0.417356</td>\n",
              "      <td>0.823484</td>\n",
              "      <td>-3.747787</td>\n",
              "      <td>0.234513</td>\n",
              "      <td>2.332180</td>\n",
              "      <td>0.410335</td>\n",
              "    </tr>\n",
              "  </tbody>\n",
              "</table>\n",
              "<p>5 rows × 24 columns</p>\n",
              "</div>"
            ],
            "text/plain": [
              "             name  MDVP:Fo(Hz)  MDVP:Fhi(Hz)  MDVP:Flo(Hz)  MDVP:Jitter(%)  \\\n",
              "0  phon_R01_S01_1      119.992       157.302        74.997         0.00784   \n",
              "1  phon_R01_S01_2      122.400       148.650       113.819         0.00968   \n",
              "2  phon_R01_S01_3      116.682       131.111       111.555         0.01050   \n",
              "3  phon_R01_S01_4      116.676       137.871       111.366         0.00997   \n",
              "4  phon_R01_S01_5      116.014       141.781       110.655         0.01284   \n",
              "\n",
              "   MDVP:Jitter(Abs)  MDVP:RAP  MDVP:PPQ  Jitter:DDP  MDVP:Shimmer  ...  \\\n",
              "0           0.00007   0.00370   0.00554     0.01109       0.04374  ...   \n",
              "1           0.00008   0.00465   0.00696     0.01394       0.06134  ...   \n",
              "2           0.00009   0.00544   0.00781     0.01633       0.05233  ...   \n",
              "3           0.00009   0.00502   0.00698     0.01505       0.05492  ...   \n",
              "4           0.00011   0.00655   0.00908     0.01966       0.06425  ...   \n",
              "\n",
              "   Shimmer:DDA      NHR     HNR  status      RPDE       DFA   spread1  \\\n",
              "0      0.06545  0.02211  21.033       1  0.414783  0.815285 -4.813031   \n",
              "1      0.09403  0.01929  19.085       1  0.458359  0.819521 -4.075192   \n",
              "2      0.08270  0.01309  20.651       1  0.429895  0.825288 -4.443179   \n",
              "3      0.08771  0.01353  20.644       1  0.434969  0.819235 -4.117501   \n",
              "4      0.10470  0.01767  19.649       1  0.417356  0.823484 -3.747787   \n",
              "\n",
              "    spread2        D2       PPE  \n",
              "0  0.266482  2.301442  0.284654  \n",
              "1  0.335590  2.486855  0.368674  \n",
              "2  0.311173  2.342259  0.332634  \n",
              "3  0.334147  2.405554  0.368975  \n",
              "4  0.234513  2.332180  0.410335  \n",
              "\n",
              "[5 rows x 24 columns]"
            ]
          },
          "execution_count": 331,
          "metadata": {},
          "output_type": "execute_result"
        }
      ],
      "source": [
        "# Checking First 5 rows of data\n",
        "parkinsons.head()"
      ]
    },
    {
      "cell_type": "markdown",
      "metadata": {},
      "source": [
        "Checking basic information about the dataset"
      ]
    },
    {
      "cell_type": "code",
      "execution_count": 332,
      "metadata": {},
      "outputs": [
        {
          "name": "stdout",
          "output_type": "stream",
          "text": [
            "<class 'pandas.core.frame.DataFrame'>\n",
            "RangeIndex: 195 entries, 0 to 194\n",
            "Data columns (total 24 columns):\n",
            " #   Column            Non-Null Count  Dtype  \n",
            "---  ------            --------------  -----  \n",
            " 0   name              195 non-null    object \n",
            " 1   MDVP:Fo(Hz)       195 non-null    float64\n",
            " 2   MDVP:Fhi(Hz)      195 non-null    float64\n",
            " 3   MDVP:Flo(Hz)      195 non-null    float64\n",
            " 4   MDVP:Jitter(%)    195 non-null    float64\n",
            " 5   MDVP:Jitter(Abs)  195 non-null    float64\n",
            " 6   MDVP:RAP          195 non-null    float64\n",
            " 7   MDVP:PPQ          195 non-null    float64\n",
            " 8   Jitter:DDP        195 non-null    float64\n",
            " 9   MDVP:Shimmer      195 non-null    float64\n",
            " 10  MDVP:Shimmer(dB)  195 non-null    float64\n",
            " 11  Shimmer:APQ3      195 non-null    float64\n",
            " 12  Shimmer:APQ5      195 non-null    float64\n",
            " 13  MDVP:APQ          195 non-null    float64\n",
            " 14  Shimmer:DDA       195 non-null    float64\n",
            " 15  NHR               195 non-null    float64\n",
            " 16  HNR               195 non-null    float64\n",
            " 17  status            195 non-null    int64  \n",
            " 18  RPDE              195 non-null    float64\n",
            " 19  DFA               195 non-null    float64\n",
            " 20  spread1           195 non-null    float64\n",
            " 21  spread2           195 non-null    float64\n",
            " 22  D2                195 non-null    float64\n",
            " 23  PPE               195 non-null    float64\n",
            "dtypes: float64(22), int64(1), object(1)\n",
            "memory usage: 36.7+ KB\n"
          ]
        }
      ],
      "source": [
        "parkinsons.info()"
      ]
    },
    {
      "cell_type": "code",
      "execution_count": 333,
      "metadata": {},
      "outputs": [
        {
          "data": {
            "text/plain": [
              "Index(['name', 'MDVP:Fo(Hz)', 'MDVP:Fhi(Hz)', 'MDVP:Flo(Hz)', 'MDVP:Jitter(%)',\n",
              "       'MDVP:Jitter(Abs)', 'MDVP:RAP', 'MDVP:PPQ', 'Jitter:DDP',\n",
              "       'MDVP:Shimmer', 'MDVP:Shimmer(dB)', 'Shimmer:APQ3', 'Shimmer:APQ5',\n",
              "       'MDVP:APQ', 'Shimmer:DDA', 'NHR', 'HNR', 'status', 'RPDE', 'DFA',\n",
              "       'spread1', 'spread2', 'D2', 'PPE'],\n",
              "      dtype='object')"
            ]
          },
          "execution_count": 333,
          "metadata": {},
          "output_type": "execute_result"
        }
      ],
      "source": [
        "parkinsons.columns"
      ]
    },
    {
      "cell_type": "code",
      "execution_count": 334,
      "metadata": {},
      "outputs": [
        {
          "data": {
            "image/png": "[encoded data removed]",
            "text/plain": [
              "<Figure size 1000x600 with 1 Axes>"
            ]
          },
          "metadata": {},
          "output_type": "display_data"
        }
      ],
      "source": [
        "plt.figure(figsize=(10, 6))\n",
        "sns.scatterplot(data=parkinsons, x='MDVP:Fo(Hz)', y='MDVP:Fhi(Hz)', hue='status', palette='viridis')\n",
        "plt.title('Scatter Plot of MDVP:Fo(Hz) vs MDVP:Fhi(Hz)')\n",
        "plt.show()\n",
        "\n",
        "# From the above plot, we can see that the people without Parkinsons \n",
        "# have their fundamental frequencies that is either high or very low \n",
        "# and the percentage of jitter is usually lower that 0.005%."
      ]
    },
    {
      "cell_type": "markdown",
      "metadata": {},
      "source": [
        "### Data Preprocessing"
      ]
    },
    {
      "cell_type": "markdown",
      "metadata": {},
      "source": [
        "#### Data Shuffle and Split\n",
        "It is good pratice to split the dataset before preprocessing to avoid data leakage, shuffling the data adds randomness which can boost model performance"
      ]
    },
    {
      "cell_type": "code",
      "execution_count": 335,
      "metadata": {},
      "outputs": [],
      "source": [
        "# Shuffling the data\n",
        "parkinsons = parkinsons.sample(frac=1, random_state=42).copy()"
      ]
    },
    {
      "cell_type": "code",
      "execution_count": 336,
      "metadata": {},
      "outputs": [],
      "source": [
        "# Splitting the data into train and test data \n",
        "#test data is 20% and train data is 80%\n",
        "from sklearn.model_selection import train_test_split\n",
        "X = parkinsons.drop([\"name\", \"status\"], axis=1) \n",
        "y = parkinsons[\"status\"]\n",
        "X_train, X_test, y_train, y_test = train_test_split(X, y, test_size=0.3, random_state=51)"
      ]
    },
    {
      "cell_type": "code",
      "execution_count": 337,
      "metadata": {},
      "outputs": [
        {
          "data": {
            "text/html": [
              "<div>\n",
              "<style scoped>\n",
              "    .dataframe tbody tr th:only-of-type {\n",
              "        vertical-align: middle;\n",
              "    }\n",
              "\n",
              "    .dataframe tbody tr th {\n",
              "        vertical-align: top;\n",
              "    }\n",
              "\n",
              "    .dataframe thead th {\n",
              "        text-align: right;\n",
              "    }\n",
              "</style>\n",
              "<table border=\"1\" class=\"dataframe\">\n",
              "  <thead>\n",
              "    <tr style=\"text-align: right;\">\n",
              "      <th></th>\n",
              "      <th>MDVP:Fo(Hz)</th>\n",
              "      <th>MDVP:Fhi(Hz)</th>\n",
              "      <th>MDVP:Flo(Hz)</th>\n",
              "      <th>MDVP:Jitter(%)</th>\n",
              "      <th>MDVP:Jitter(Abs)</th>\n",
              "      <th>MDVP:RAP</th>\n",
              "      <th>MDVP:PPQ</th>\n",
              "      <th>Jitter:DDP</th>\n",
              "      <th>MDVP:Shimmer</th>\n",
              "      <th>MDVP:Shimmer(dB)</th>\n",
              "      <th>...</th>\n",
              "      <th>MDVP:APQ</th>\n",
              "      <th>Shimmer:DDA</th>\n",
              "      <th>NHR</th>\n",
              "      <th>HNR</th>\n",
              "      <th>RPDE</th>\n",
              "      <th>DFA</th>\n",
              "      <th>spread1</th>\n",
              "      <th>spread2</th>\n",
              "      <th>D2</th>\n",
              "      <th>PPE</th>\n",
              "    </tr>\n",
              "  </thead>\n",
              "  <tbody>\n",
              "    <tr>\n",
              "      <th>104</th>\n",
              "      <td>154.003</td>\n",
              "      <td>160.267</td>\n",
              "      <td>128.621</td>\n",
              "      <td>0.00183</td>\n",
              "      <td>0.00001</td>\n",
              "      <td>0.00076</td>\n",
              "      <td>0.00100</td>\n",
              "      <td>0.00229</td>\n",
              "      <td>0.01030</td>\n",
              "      <td>0.094</td>\n",
              "      <td>...</td>\n",
              "      <td>0.00871</td>\n",
              "      <td>0.01406</td>\n",
              "      <td>0.00243</td>\n",
              "      <td>28.409</td>\n",
              "      <td>0.263654</td>\n",
              "      <td>0.691483</td>\n",
              "      <td>-7.111576</td>\n",
              "      <td>0.144780</td>\n",
              "      <td>2.065477</td>\n",
              "      <td>0.093193</td>\n",
              "    </tr>\n",
              "    <tr>\n",
              "      <th>194</th>\n",
              "      <td>214.289</td>\n",
              "      <td>260.277</td>\n",
              "      <td>77.973</td>\n",
              "      <td>0.00567</td>\n",
              "      <td>0.00003</td>\n",
              "      <td>0.00295</td>\n",
              "      <td>0.00317</td>\n",
              "      <td>0.00885</td>\n",
              "      <td>0.01884</td>\n",
              "      <td>0.190</td>\n",
              "      <td>...</td>\n",
              "      <td>0.01373</td>\n",
              "      <td>0.03078</td>\n",
              "      <td>0.04398</td>\n",
              "      <td>21.209</td>\n",
              "      <td>0.462803</td>\n",
              "      <td>0.664357</td>\n",
              "      <td>-5.724056</td>\n",
              "      <td>0.190667</td>\n",
              "      <td>2.555477</td>\n",
              "      <td>0.148569</td>\n",
              "    </tr>\n",
              "    <tr>\n",
              "      <th>159</th>\n",
              "      <td>127.930</td>\n",
              "      <td>138.752</td>\n",
              "      <td>112.173</td>\n",
              "      <td>0.00605</td>\n",
              "      <td>0.00005</td>\n",
              "      <td>0.00321</td>\n",
              "      <td>0.00318</td>\n",
              "      <td>0.00962</td>\n",
              "      <td>0.03235</td>\n",
              "      <td>0.339</td>\n",
              "      <td>...</td>\n",
              "      <td>0.03105</td>\n",
              "      <td>0.04079</td>\n",
              "      <td>0.02663</td>\n",
              "      <td>19.651</td>\n",
              "      <td>0.654945</td>\n",
              "      <td>0.675865</td>\n",
              "      <td>-5.498456</td>\n",
              "      <td>0.234196</td>\n",
              "      <td>2.103014</td>\n",
              "      <td>0.216638</td>\n",
              "    </tr>\n",
              "    <tr>\n",
              "      <th>179</th>\n",
              "      <td>148.143</td>\n",
              "      <td>155.982</td>\n",
              "      <td>135.041</td>\n",
              "      <td>0.00392</td>\n",
              "      <td>0.00003</td>\n",
              "      <td>0.00204</td>\n",
              "      <td>0.00231</td>\n",
              "      <td>0.00612</td>\n",
              "      <td>0.01450</td>\n",
              "      <td>0.131</td>\n",
              "      <td>...</td>\n",
              "      <td>0.01263</td>\n",
              "      <td>0.02175</td>\n",
              "      <td>0.00540</td>\n",
              "      <td>23.683</td>\n",
              "      <td>0.398499</td>\n",
              "      <td>0.778349</td>\n",
              "      <td>-5.711205</td>\n",
              "      <td>0.240875</td>\n",
              "      <td>2.845109</td>\n",
              "      <td>0.192730</td>\n",
              "    </tr>\n",
              "    <tr>\n",
              "      <th>188</th>\n",
              "      <td>114.563</td>\n",
              "      <td>119.167</td>\n",
              "      <td>86.647</td>\n",
              "      <td>0.00327</td>\n",
              "      <td>0.00003</td>\n",
              "      <td>0.00146</td>\n",
              "      <td>0.00184</td>\n",
              "      <td>0.00439</td>\n",
              "      <td>0.01185</td>\n",
              "      <td>0.106</td>\n",
              "      <td>...</td>\n",
              "      <td>0.01095</td>\n",
              "      <td>0.01672</td>\n",
              "      <td>0.00703</td>\n",
              "      <td>24.775</td>\n",
              "      <td>0.555303</td>\n",
              "      <td>0.659132</td>\n",
              "      <td>-6.710219</td>\n",
              "      <td>0.149694</td>\n",
              "      <td>1.913990</td>\n",
              "      <td>0.121777</td>\n",
              "    </tr>\n",
              "    <tr>\n",
              "      <th>...</th>\n",
              "      <td>...</td>\n",
              "      <td>...</td>\n",
              "      <td>...</td>\n",
              "      <td>...</td>\n",
              "      <td>...</td>\n",
              "      <td>...</td>\n",
              "      <td>...</td>\n",
              "      <td>...</td>\n",
              "      <td>...</td>\n",
              "      <td>...</td>\n",
              "      <td>...</td>\n",
              "      <td>...</td>\n",
              "      <td>...</td>\n",
              "      <td>...</td>\n",
              "      <td>...</td>\n",
              "      <td>...</td>\n",
              "      <td>...</td>\n",
              "      <td>...</td>\n",
              "      <td>...</td>\n",
              "      <td>...</td>\n",
              "      <td>...</td>\n",
              "    </tr>\n",
              "    <tr>\n",
              "      <th>125</th>\n",
              "      <td>145.174</td>\n",
              "      <td>198.109</td>\n",
              "      <td>80.637</td>\n",
              "      <td>0.00733</td>\n",
              "      <td>0.00005</td>\n",
              "      <td>0.00414</td>\n",
              "      <td>0.00422</td>\n",
              "      <td>0.01242</td>\n",
              "      <td>0.02362</td>\n",
              "      <td>0.233</td>\n",
              "      <td>...</td>\n",
              "      <td>0.01944</td>\n",
              "      <td>0.03706</td>\n",
              "      <td>0.01874</td>\n",
              "      <td>18.857</td>\n",
              "      <td>0.637518</td>\n",
              "      <td>0.735546</td>\n",
              "      <td>-5.594275</td>\n",
              "      <td>0.127950</td>\n",
              "      <td>1.765957</td>\n",
              "      <td>0.222716</td>\n",
              "    </tr>\n",
              "    <tr>\n",
              "      <th>103</th>\n",
              "      <td>150.258</td>\n",
              "      <td>154.609</td>\n",
              "      <td>75.349</td>\n",
              "      <td>0.00248</td>\n",
              "      <td>0.00002</td>\n",
              "      <td>0.00105</td>\n",
              "      <td>0.00136</td>\n",
              "      <td>0.00315</td>\n",
              "      <td>0.01131</td>\n",
              "      <td>0.107</td>\n",
              "      <td>...</td>\n",
              "      <td>0.01009</td>\n",
              "      <td>0.01567</td>\n",
              "      <td>0.00495</td>\n",
              "      <td>26.759</td>\n",
              "      <td>0.296888</td>\n",
              "      <td>0.722356</td>\n",
              "      <td>-6.878393</td>\n",
              "      <td>0.089267</td>\n",
              "      <td>2.004055</td>\n",
              "      <td>0.113942</td>\n",
              "    </tr>\n",
              "    <tr>\n",
              "      <th>13</th>\n",
              "      <td>139.173</td>\n",
              "      <td>179.139</td>\n",
              "      <td>76.556</td>\n",
              "      <td>0.00390</td>\n",
              "      <td>0.00003</td>\n",
              "      <td>0.00165</td>\n",
              "      <td>0.00208</td>\n",
              "      <td>0.00496</td>\n",
              "      <td>0.01642</td>\n",
              "      <td>0.154</td>\n",
              "      <td>...</td>\n",
              "      <td>0.01797</td>\n",
              "      <td>0.02184</td>\n",
              "      <td>0.01041</td>\n",
              "      <td>24.889</td>\n",
              "      <td>0.430166</td>\n",
              "      <td>0.665833</td>\n",
              "      <td>-5.660217</td>\n",
              "      <td>0.254989</td>\n",
              "      <td>2.519422</td>\n",
              "      <td>0.199889</td>\n",
              "    </tr>\n",
              "    <tr>\n",
              "      <th>69</th>\n",
              "      <td>148.090</td>\n",
              "      <td>162.824</td>\n",
              "      <td>67.343</td>\n",
              "      <td>0.00762</td>\n",
              "      <td>0.00005</td>\n",
              "      <td>0.00467</td>\n",
              "      <td>0.00354</td>\n",
              "      <td>0.01400</td>\n",
              "      <td>0.05428</td>\n",
              "      <td>0.497</td>\n",
              "      <td>...</td>\n",
              "      <td>0.03635</td>\n",
              "      <td>0.10070</td>\n",
              "      <td>0.02431</td>\n",
              "      <td>21.718</td>\n",
              "      <td>0.487407</td>\n",
              "      <td>0.727313</td>\n",
              "      <td>-6.261141</td>\n",
              "      <td>0.120956</td>\n",
              "      <td>2.137075</td>\n",
              "      <td>0.141958</td>\n",
              "    </tr>\n",
              "    <tr>\n",
              "      <th>51</th>\n",
              "      <td>126.344</td>\n",
              "      <td>134.231</td>\n",
              "      <td>112.773</td>\n",
              "      <td>0.00448</td>\n",
              "      <td>0.00004</td>\n",
              "      <td>0.00131</td>\n",
              "      <td>0.00169</td>\n",
              "      <td>0.00393</td>\n",
              "      <td>0.02033</td>\n",
              "      <td>0.185</td>\n",
              "      <td>...</td>\n",
              "      <td>0.01614</td>\n",
              "      <td>0.03429</td>\n",
              "      <td>0.00474</td>\n",
              "      <td>25.030</td>\n",
              "      <td>0.507504</td>\n",
              "      <td>0.760361</td>\n",
              "      <td>-6.689151</td>\n",
              "      <td>0.291954</td>\n",
              "      <td>2.431854</td>\n",
              "      <td>0.105993</td>\n",
              "    </tr>\n",
              "  </tbody>\n",
              "</table>\n",
              "<p>136 rows × 22 columns</p>\n",
              "</div>"
            ],
            "text/plain": [
              "     MDVP:Fo(Hz)  MDVP:Fhi(Hz)  MDVP:Flo(Hz)  MDVP:Jitter(%)  \\\n",
              "104      154.003       160.267       128.621         0.00183   \n",
              "194      214.289       260.277        77.973         0.00567   \n",
              "159      127.930       138.752       112.173         0.00605   \n",
              "179      148.143       155.982       135.041         0.00392   \n",
              "188      114.563       119.167        86.647         0.00327   \n",
              "..           ...           ...           ...             ...   \n",
              "125      145.174       198.109        80.637         0.00733   \n",
              "103      150.258       154.609        75.349         0.00248   \n",
              "13       139.173       179.139        76.556         0.00390   \n",
              "69       148.090       162.824        67.343         0.00762   \n",
              "51       126.344       134.231       112.773         0.00448   \n",
              "\n",
              "     MDVP:Jitter(Abs)  MDVP:RAP  MDVP:PPQ  Jitter:DDP  MDVP:Shimmer  \\\n",
              "104           0.00001   0.00076   0.00100     0.00229       0.01030   \n",
              "194           0.00003   0.00295   0.00317     0.00885       0.01884   \n",
              "159           0.00005   0.00321   0.00318     0.00962       0.03235   \n",
              "179           0.00003   0.00204   0.00231     0.00612       0.01450   \n",
              "188           0.00003   0.00146   0.00184     0.00439       0.01185   \n",
              "..                ...       ...       ...         ...           ...   \n",
              "125           0.00005   0.00414   0.00422     0.01242       0.02362   \n",
              "103           0.00002   0.00105   0.00136     0.00315       0.01131   \n",
              "13            0.00003   0.00165   0.00208     0.00496       0.01642   \n",
              "69            0.00005   0.00467   0.00354     0.01400       0.05428   \n",
              "51            0.00004   0.00131   0.00169     0.00393       0.02033   \n",
              "\n",
              "     MDVP:Shimmer(dB)  ...  MDVP:APQ  Shimmer:DDA      NHR     HNR      RPDE  \\\n",
              "104             0.094  ...   0.00871      0.01406  0.00243  28.409  0.263654   \n",
              "194             0.190  ...   0.01373      0.03078  0.04398  21.209  0.462803   \n",
              "159             0.339  ...   0.03105      0.04079  0.02663  19.651  0.654945   \n",
              "179             0.131  ...   0.01263      0.02175  0.00540  23.683  0.398499   \n",
              "188             0.106  ...   0.01095      0.01672  0.00703  24.775  0.555303   \n",
              "..                ...  ...       ...          ...      ...     ...       ...   \n",
              "125             0.233  ...   0.01944      0.03706  0.01874  18.857  0.637518   \n",
              "103             0.107  ...   0.01009      0.01567  0.00495  26.759  0.296888   \n",
              "13              0.154  ...   0.01797      0.02184  0.01041  24.889  0.430166   \n",
              "69              0.497  ...   0.03635      0.10070  0.02431  21.718  0.487407   \n",
              "51              0.185  ...   0.01614      0.03429  0.00474  25.030  0.507504   \n",
              "\n",
              "          DFA   spread1   spread2        D2       PPE  \n",
              "104  0.691483 -7.111576  0.144780  2.065477  0.093193  \n",
              "194  0.664357 -5.724056  0.190667  2.555477  0.148569  \n",
              "159  0.675865 -5.498456  0.234196  2.103014  0.216638  \n",
              "179  0.778349 -5.711205  0.240875  2.845109  0.192730  \n",
              "188  0.659132 -6.710219  0.149694  1.913990  0.121777  \n",
              "..        ...       ...       ...       ...       ...  \n",
              "125  0.735546 -5.594275  0.127950  1.765957  0.222716  \n",
              "103  0.722356 -6.878393  0.089267  2.004055  0.113942  \n",
              "13   0.665833 -5.660217  0.254989  2.519422  0.199889  \n",
              "69   0.727313 -6.261141  0.120956  2.137075  0.141958  \n",
              "51   0.760361 -6.689151  0.291954  2.431854  0.105993  \n",
              "\n",
              "[136 rows x 22 columns]"
            ]
          },
          "execution_count": 337,
          "metadata": {},
          "output_type": "execute_result"
        }
      ],
      "source": [
        "# Setting the train data to variable name \"parkinsons\" for data preprocessing\n",
        "parkinsons = X_train.copy()\n",
        "parkinsons"
      ]
    },
    {
      "cell_type": "code",
      "execution_count": 338,
      "metadata": {},
      "outputs": [
        {
          "data": {
            "text/plain": [
              "104    1\n",
              "194    0\n",
              "159    1\n",
              "179    1\n",
              "188    0\n",
              "      ..\n",
              "125    1\n",
              "103    1\n",
              "13     1\n",
              "69     1\n",
              "51     0\n",
              "Name: status, Length: 136, dtype: int64"
            ]
          },
          "execution_count": 338,
          "metadata": {},
          "output_type": "execute_result"
        }
      ],
      "source": [
        "y_train"
      ]
    },
    {
      "cell_type": "code",
      "execution_count": 339,
      "metadata": {},
      "outputs": [
        {
          "data": {
            "text/plain": [
              "MDVP:Fo(Hz)         154.003000\n",
              "MDVP:Fhi(Hz)        160.267000\n",
              "MDVP:Flo(Hz)        128.621000\n",
              "MDVP:Jitter(%)        0.001830\n",
              "MDVP:Jitter(Abs)      0.000010\n",
              "MDVP:RAP              0.000760\n",
              "MDVP:PPQ              0.001000\n",
              "Jitter:DDP            0.002290\n",
              "MDVP:Shimmer          0.010300\n",
              "MDVP:Shimmer(dB)      0.094000\n",
              "Shimmer:APQ3          0.004690\n",
              "Shimmer:APQ5          0.005820\n",
              "MDVP:APQ              0.008710\n",
              "Shimmer:DDA           0.014060\n",
              "NHR                   0.002430\n",
              "HNR                  28.409000\n",
              "RPDE                  0.263654\n",
              "DFA                   0.691483\n",
              "spread1              -7.111576\n",
              "spread2               0.144780\n",
              "D2                    2.065477\n",
              "PPE                   0.093193\n",
              "Name: 104, dtype: float64"
            ]
          },
          "execution_count": 339,
          "metadata": {},
          "output_type": "execute_result"
        }
      ],
      "source": [
        "parkinsons.iloc[0]"
      ]
    },
    {
      "cell_type": "markdown",
      "metadata": {},
      "source": [
        "#### Handling of Missing data \n"
      ]
    },
    {
      "cell_type": "code",
      "execution_count": 340,
      "metadata": {},
      "outputs": [],
      "source": [
        "# Extracting features\n",
        "features = [feature for feature in parkinsons.columns]"
      ]
    },
    {
      "cell_type": "markdown",
      "metadata": {},
      "source": [
        "There is no missing data in this dataset"
      ]
    },
    {
      "cell_type": "code",
      "execution_count": 341,
      "metadata": {},
      "outputs": [
        {
          "data": {
            "text/plain": [
              "MDVP:Fo(Hz)         0\n",
              "MDVP:Fhi(Hz)        0\n",
              "MDVP:Flo(Hz)        0\n",
              "MDVP:Jitter(%)      0\n",
              "MDVP:Jitter(Abs)    0\n",
              "MDVP:RAP            0\n",
              "MDVP:PPQ            0\n",
              "Jitter:DDP          0\n",
              "MDVP:Shimmer        0\n",
              "MDVP:Shimmer(dB)    0\n",
              "Shimmer:APQ3        0\n",
              "Shimmer:APQ5        0\n",
              "MDVP:APQ            0\n",
              "Shimmer:DDA         0\n",
              "NHR                 0\n",
              "HNR                 0\n",
              "RPDE                0\n",
              "DFA                 0\n",
              "spread1             0\n",
              "spread2             0\n",
              "D2                  0\n",
              "PPE                 0\n",
              "dtype: int64"
            ]
          },
          "execution_count": 341,
          "metadata": {},
          "output_type": "execute_result"
        }
      ],
      "source": [
        "# Check total of missing values\n",
        "parkinsons.isna().sum()"
      ]
    },
    {
      "cell_type": "markdown",
      "metadata": {},
      "source": [
        "#### Feature Scaling\n",
        "Scaling values to a range of -3 to 3, so as to boost model perfomance"
      ]
    },
    {
      "cell_type": "code",
      "execution_count": 342,
      "metadata": {},
      "outputs": [],
      "source": [
        "# import library for scaling\n",
        "from sklearn.preprocessing import StandardScaler"
      ]
    },
    {
      "cell_type": "code",
      "execution_count": 343,
      "metadata": {},
      "outputs": [],
      "source": [
        "# initialize and scale values\n",
        "scaler = StandardScaler()\n",
        "scaler.fit(parkinsons[features])\n",
        "parkinsons[features] = scaler.transform(parkinsons[features])"
      ]
    },
    {
      "cell_type": "code",
      "execution_count": 344,
      "metadata": {},
      "outputs": [
        {
          "data": {
            "text/plain": [
              "['tools/scaler_joblib']"
            ]
          },
          "execution_count": 344,
          "metadata": {},
          "output_type": "execute_result"
        }
      ],
      "source": [
        "joblib.dump(scaler, \"tools/scaler_joblib\")"
      ]
    },
    {
      "cell_type": "markdown",
      "metadata": {},
      "source": [
        "### Class Imbalance"
      ]
    },
    {
      "cell_type": "code",
      "execution_count": 345,
      "metadata": {},
      "outputs": [
        {
          "data": {
            "text/plain": [
              "status\n",
              "1    0.720588\n",
              "0    0.279412\n",
              "Name: proportion, dtype: float64"
            ]
          },
          "execution_count": 345,
          "metadata": {},
          "output_type": "execute_result"
        }
      ],
      "source": [
        "#  Ratio of No Parkinson to Parkinson\n",
        "y_train.value_counts(normalize=True)"
      ]
    },
    {
      "cell_type": "code",
      "execution_count": 346,
      "metadata": {},
      "outputs": [],
      "source": [
        "# joining the data together\n",
        "parkinsons = pd.concat([parkinsons, y_train], axis=1)"
      ]
    },
    {
      "cell_type": "code",
      "execution_count": 347,
      "metadata": {},
      "outputs": [],
      "source": [
        "# Balancing the data\n",
        "from imblearn.over_sampling import SMOTE\n",
        "smote = SMOTE(random_state=51)\n",
        "X = parkinsons.drop(\"status\", axis=1) \n",
        "y = parkinsons[\"status\"]\n",
        "X_train, y_train = smote.fit_resample(X, y)"
      ]
    },
    {
      "cell_type": "code",
      "execution_count": 348,
      "metadata": {},
      "outputs": [
        {
          "data": {
            "text/plain": [
              "status\n",
              "1    0.5\n",
              "0    0.5\n",
              "Name: proportion, dtype: float64"
            ]
          },
          "execution_count": 348,
          "metadata": {},
          "output_type": "execute_result"
        }
      ],
      "source": [
        "#  Ratio of No Diabetes to Diabetes\n",
        "y_train.value_counts(normalize=True)"
      ]
    },
    {
      "cell_type": "markdown",
      "metadata": {},
      "source": [
        "### Model Building"
      ]
    },
    {
      "cell_type": "markdown",
      "metadata": {},
      "source": [
        "#### Preprocessing Test data"
      ]
    },
    {
      "cell_type": "code",
      "execution_count": 349,
      "metadata": {},
      "outputs": [],
      "source": [
        "X_test[features] = scaler.transform(X_test[features]) # scaling features"
      ]
    },
    {
      "cell_type": "code",
      "execution_count": 350,
      "metadata": {},
      "outputs": [
        {
          "data": {
            "text/html": [
              "<div>\n",
              "<style scoped>\n",
              "    .dataframe tbody tr th:only-of-type {\n",
              "        vertical-align: middle;\n",
              "    }\n",
              "\n",
              "    .dataframe tbody tr th {\n",
              "        vertical-align: top;\n",
              "    }\n",
              "\n",
              "    .dataframe thead th {\n",
              "        text-align: right;\n",
              "    }\n",
              "</style>\n",
              "<table border=\"1\" class=\"dataframe\">\n",
              "  <thead>\n",
              "    <tr style=\"text-align: right;\">\n",
              "      <th></th>\n",
              "      <th>MDVP:Fo(Hz)</th>\n",
              "      <th>MDVP:Fhi(Hz)</th>\n",
              "      <th>MDVP:Flo(Hz)</th>\n",
              "      <th>MDVP:Jitter(%)</th>\n",
              "      <th>MDVP:Jitter(Abs)</th>\n",
              "      <th>MDVP:RAP</th>\n",
              "      <th>MDVP:PPQ</th>\n",
              "      <th>Jitter:DDP</th>\n",
              "      <th>MDVP:Shimmer</th>\n",
              "      <th>MDVP:Shimmer(dB)</th>\n",
              "      <th>...</th>\n",
              "      <th>MDVP:APQ</th>\n",
              "      <th>Shimmer:DDA</th>\n",
              "      <th>NHR</th>\n",
              "      <th>HNR</th>\n",
              "      <th>RPDE</th>\n",
              "      <th>DFA</th>\n",
              "      <th>spread1</th>\n",
              "      <th>spread2</th>\n",
              "      <th>D2</th>\n",
              "      <th>PPE</th>\n",
              "    </tr>\n",
              "  </thead>\n",
              "  <tbody>\n",
              "    <tr>\n",
              "      <th>178</th>\n",
              "      <td>-0.078983</td>\n",
              "      <td>-0.424096</td>\n",
              "      <td>0.577455</td>\n",
              "      <td>-0.641140</td>\n",
              "      <td>-0.681575</td>\n",
              "      <td>-0.586188</td>\n",
              "      <td>-0.585173</td>\n",
              "      <td>-0.586291</td>\n",
              "      <td>-0.731299</td>\n",
              "      <td>-0.726882</td>\n",
              "      <td>...</td>\n",
              "      <td>-0.685387</td>\n",
              "      <td>-0.684640</td>\n",
              "      <td>-0.481387</td>\n",
              "      <td>0.505193</td>\n",
              "      <td>-0.868777</td>\n",
              "      <td>0.788958</td>\n",
              "      <td>-0.548941</td>\n",
              "      <td>-0.496445</td>\n",
              "      <td>-0.276812</td>\n",
              "      <td>-0.484934</td>\n",
              "    </tr>\n",
              "    <tr>\n",
              "      <th>171</th>\n",
              "      <td>-0.990226</td>\n",
              "      <td>-0.674915</td>\n",
              "      <td>-0.210032</td>\n",
              "      <td>-0.546795</td>\n",
              "      <td>-0.405371</td>\n",
              "      <td>-0.539655</td>\n",
              "      <td>-0.570558</td>\n",
              "      <td>-0.538649</td>\n",
              "      <td>-0.853400</td>\n",
              "      <td>-0.798805</td>\n",
              "      <td>...</td>\n",
              "      <td>-0.800017</td>\n",
              "      <td>-0.864443</td>\n",
              "      <td>-0.493796</td>\n",
              "      <td>0.945957</td>\n",
              "      <td>-0.768901</td>\n",
              "      <td>0.685505</td>\n",
              "      <td>-0.559302</td>\n",
              "      <td>-0.044381</td>\n",
              "      <td>-0.423643</td>\n",
              "      <td>-0.484178</td>\n",
              "    </tr>\n",
              "    <tr>\n",
              "      <th>137</th>\n",
              "      <td>-0.974662</td>\n",
              "      <td>-0.706076</td>\n",
              "      <td>-0.329357</td>\n",
              "      <td>-0.245302</td>\n",
              "      <td>-0.129166</td>\n",
              "      <td>-0.237188</td>\n",
              "      <td>-0.124773</td>\n",
              "      <td>-0.236180</td>\n",
              "      <td>1.363067</td>\n",
              "      <td>1.120996</td>\n",
              "      <td>...</td>\n",
              "      <td>1.230769</td>\n",
              "      <td>1.424800</td>\n",
              "      <td>0.268340</td>\n",
              "      <td>-1.164005</td>\n",
              "      <td>1.209833</td>\n",
              "      <td>-0.170949</td>\n",
              "      <td>0.938417</td>\n",
              "      <td>1.013265</td>\n",
              "      <td>0.785916</td>\n",
              "      <td>0.747914</td>\n",
              "    </tr>\n",
              "    <tr>\n",
              "      <th>15</th>\n",
              "      <td>-0.245502</td>\n",
              "      <td>0.169157</td>\n",
              "      <td>-0.743844</td>\n",
              "      <td>-0.518081</td>\n",
              "      <td>-0.405371</td>\n",
              "      <td>-0.569569</td>\n",
              "      <td>-0.523056</td>\n",
              "      <td>-0.569672</td>\n",
              "      <td>-0.771434</td>\n",
              "      <td>-0.815403</td>\n",
              "      <td>...</td>\n",
              "      <td>-0.651473</td>\n",
              "      <td>-0.753690</td>\n",
              "      <td>-0.399202</td>\n",
              "      <td>0.671351</td>\n",
              "      <td>0.655235</td>\n",
              "      <td>-1.068176</td>\n",
              "      <td>0.323383</td>\n",
              "      <td>-0.152352</td>\n",
              "      <td>-0.393000</td>\n",
              "      <td>0.317826</td>\n",
              "    </tr>\n",
              "    <tr>\n",
              "      <th>157</th>\n",
              "      <td>-0.854053</td>\n",
              "      <td>-0.666533</td>\n",
              "      <td>-0.327369</td>\n",
              "      <td>2.443521</td>\n",
              "      <td>2.909082</td>\n",
              "      <td>2.621289</td>\n",
              "      <td>1.358742</td>\n",
              "      <td>2.621214</td>\n",
              "      <td>1.155609</td>\n",
              "      <td>0.910758</td>\n",
              "      <td>...</td>\n",
              "      <td>0.404617</td>\n",
              "      <td>1.131167</td>\n",
              "      <td>1.920924</td>\n",
              "      <td>-0.657039</td>\n",
              "      <td>1.258213</td>\n",
              "      <td>-1.272284</td>\n",
              "      <td>2.024850</td>\n",
              "      <td>1.002183</td>\n",
              "      <td>1.523864</td>\n",
              "      <td>0.606540</td>\n",
              "    </tr>\n",
              "  </tbody>\n",
              "</table>\n",
              "<p>5 rows × 22 columns</p>\n",
              "</div>"
            ],
            "text/plain": [
              "     MDVP:Fo(Hz)  MDVP:Fhi(Hz)  MDVP:Flo(Hz)  MDVP:Jitter(%)  \\\n",
              "178    -0.078983     -0.424096      0.577455       -0.641140   \n",
              "171    -0.990226     -0.674915     -0.210032       -0.546795   \n",
              "137    -0.974662     -0.706076     -0.329357       -0.245302   \n",
              "15     -0.245502      0.169157     -0.743844       -0.518081   \n",
              "157    -0.854053     -0.666533     -0.327369        2.443521   \n",
              "\n",
              "     MDVP:Jitter(Abs)  MDVP:RAP  MDVP:PPQ  Jitter:DDP  MDVP:Shimmer  \\\n",
              "178         -0.681575 -0.586188 -0.585173   -0.586291     -0.731299   \n",
              "171         -0.405371 -0.539655 -0.570558   -0.538649     -0.853400   \n",
              "137         -0.129166 -0.237188 -0.124773   -0.236180      1.363067   \n",
              "15          -0.405371 -0.569569 -0.523056   -0.569672     -0.771434   \n",
              "157          2.909082  2.621289  1.358742    2.621214      1.155609   \n",
              "\n",
              "     MDVP:Shimmer(dB)  ...  MDVP:APQ  Shimmer:DDA       NHR       HNR  \\\n",
              "178         -0.726882  ... -0.685387    -0.684640 -0.481387  0.505193   \n",
              "171         -0.798805  ... -0.800017    -0.864443 -0.493796  0.945957   \n",
              "137          1.120996  ...  1.230769     1.424800  0.268340 -1.164005   \n",
              "15          -0.815403  ... -0.651473    -0.753690 -0.399202  0.671351   \n",
              "157          0.910758  ...  0.404617     1.131167  1.920924 -0.657039   \n",
              "\n",
              "         RPDE       DFA   spread1   spread2        D2       PPE  \n",
              "178 -0.868777  0.788958 -0.548941 -0.496445 -0.276812 -0.484934  \n",
              "171 -0.768901  0.685505 -0.559302 -0.044381 -0.423643 -0.484178  \n",
              "137  1.209833 -0.170949  0.938417  1.013265  0.785916  0.747914  \n",
              "15   0.655235 -1.068176  0.323383 -0.152352 -0.393000  0.317826  \n",
              "157  1.258213 -1.272284  2.024850  1.002183  1.523864  0.606540  \n",
              "\n",
              "[5 rows x 22 columns]"
            ]
          },
          "execution_count": 350,
          "metadata": {},
          "output_type": "execute_result"
        }
      ],
      "source": [
        "# checking first 5 rows of data\n",
        "X_test.head()"
      ]
    },
    {
      "cell_type": "code",
      "execution_count": 351,
      "metadata": {},
      "outputs": [
        {
          "data": {
            "text/plain": [
              "(59, 22)"
            ]
          },
          "execution_count": 351,
          "metadata": {},
          "output_type": "execute_result"
        }
      ],
      "source": [
        "X_test.shape"
      ]
    },
    {
      "cell_type": "markdown",
      "metadata": {},
      "source": [
        "#### Random Forest"
      ]
    },
    {
      "cell_type": "markdown",
      "metadata": {},
      "source": [
        "Import Model"
      ]
    },
    {
      "cell_type": "code",
      "execution_count": 352,
      "metadata": {},
      "outputs": [],
      "source": [
        "from sklearn.ensemble import RandomForestClassifier"
      ]
    },
    {
      "cell_type": "code",
      "execution_count": 353,
      "metadata": {},
      "outputs": [],
      "source": [
        "model = RandomForestClassifier(random_state=51, n_jobs=-1)"
      ]
    },
    {
      "cell_type": "markdown",
      "metadata": {},
      "source": [
        "Train model and make predictions"
      ]
    },
    {
      "cell_type": "code",
      "execution_count": 354,
      "metadata": {},
      "outputs": [
        {
          "data": {
            "text/html": [
              "<style>#sk-container-id-22 {color: black;background-color: white;}#sk-container-id-22 pre{padding: 0;}#sk-container-id-22 div.sk-toggleable {background-color: white;}#sk-container-id-22 label.sk-toggleable__label {cursor: pointer;display: block;width: 100%;margin-bottom: 0;padding: 0.3em;box-sizing: border-box;text-align: center;}#sk-container-id-22 label.sk-toggleable__label-arrow:before {content: \"▸\";float: left;margin-right: 0.25em;color: #696969;}#sk-container-id-22 label.sk-toggleable__label-arrow:hover:before {color: black;}#sk-container-id-22 div.sk-estimator:hover label.sk-toggleable__label-arrow:before {color: black;}#sk-container-id-22 div.sk-toggleable__content {max-height: 0;max-width: 0;overflow: hidden;text-align: left;background-color: #f0f8ff;}#sk-container-id-22 div.sk-toggleable__content pre {margin: 0.2em;color: black;border-radius: 0.25em;background-color: #f0f8ff;}#sk-container-id-22 input.sk-toggleable__control:checked~div.sk-toggleable__content {max-height: 200px;max-width: 100%;overflow: auto;}#sk-container-id-22 input.sk-toggleable__control:checked~label.sk-toggleable__label-arrow:before {content: \"▾\";}#sk-container-id-22 div.sk-estimator input.sk-toggleable__control:checked~label.sk-toggleable__label {background-color: #d4ebff;}#sk-container-id-22 div.sk-label input.sk-toggleable__control:checked~label.sk-toggleable__label {background-color: #d4ebff;}#sk-container-id-22 input.sk-hidden--visually {border: 0;clip: rect(1px 1px 1px 1px);clip: rect(1px, 1px, 1px, 1px);height: 1px;margin: -1px;overflow: hidden;padding: 0;position: absolute;width: 1px;}#sk-container-id-22 div.sk-estimator {font-family: monospace;background-color: #f0f8ff;border: 1px dotted black;border-radius: 0.25em;box-sizing: border-box;margin-bottom: 0.5em;}#sk-container-id-22 div.sk-estimator:hover {background-color: #d4ebff;}#sk-container-id-22 div.sk-parallel-item::after {content: \"\";width: 100%;border-bottom: 1px solid gray;flex-grow: 1;}#sk-container-id-22 div.sk-label:hover label.sk-toggleable__label {background-color: #d4ebff;}#sk-container-id-22 div.sk-serial::before {content: \"\";position: absolute;border-left: 1px solid gray;box-sizing: border-box;top: 0;bottom: 0;left: 50%;z-index: 0;}#sk-container-id-22 div.sk-serial {display: flex;flex-direction: column;align-items: center;background-color: white;padding-right: 0.2em;padding-left: 0.2em;position: relative;}#sk-container-id-22 div.sk-item {position: relative;z-index: 1;}#sk-container-id-22 div.sk-parallel {display: flex;align-items: stretch;justify-content: center;background-color: white;position: relative;}#sk-container-id-22 div.sk-item::before, #sk-container-id-22 div.sk-parallel-item::before {content: \"\";position: absolute;border-left: 1px solid gray;box-sizing: border-box;top: 0;bottom: 0;left: 50%;z-index: -1;}#sk-container-id-22 div.sk-parallel-item {display: flex;flex-direction: column;z-index: 1;position: relative;background-color: white;}#sk-container-id-22 div.sk-parallel-item:first-child::after {align-self: flex-end;width: 50%;}#sk-container-id-22 div.sk-parallel-item:last-child::after {align-self: flex-start;width: 50%;}#sk-container-id-22 div.sk-parallel-item:only-child::after {width: 0;}#sk-container-id-22 div.sk-dashed-wrapped {border: 1px dashed gray;margin: 0 0.4em 0.5em 0.4em;box-sizing: border-box;padding-bottom: 0.4em;background-color: white;}#sk-container-id-22 div.sk-label label {font-family: monospace;font-weight: bold;display: inline-block;line-height: 1.2em;}#sk-container-id-22 div.sk-label-container {text-align: center;}#sk-container-id-22 div.sk-container {/* jupyter's `normalize.less` sets `[hidden] { display: none; }` but bootstrap.min.css set `[hidden] { display: none !important; }` so we also need the `!important` here to be able to override the default hidden behavior on the sphinx rendered scikit-learn.org. See: https://github.com/scikit-learn/scikit-learn/issues/21755 */display: inline-block !important;position: relative;}#sk-container-id-22 div.sk-text-repr-fallback {display: none;}</style><div id=\"sk-container-id-22\" class=\"sk-top-container\"><div class=\"sk-text-repr-fallback\"><pre>RandomForestClassifier(n_jobs=-1, random_state=51)</pre><b>In a Jupyter environment, please rerun this cell to show the HTML representation or trust the notebook. <br />On GitHub, the HTML representation is unable to render, please try loading this page with nbviewer.org.</b></div><div class=\"sk-container\" hidden><div class=\"sk-item\"><div class=\"sk-estimator sk-toggleable\"><input class=\"sk-toggleable__control sk-hidden--visually\" id=\"sk-estimator-id-22\" type=\"checkbox\" checked><label for=\"sk-estimator-id-22\" class=\"sk-toggleable__label sk-toggleable__label-arrow\">RandomForestClassifier</label><div class=\"sk-toggleable__content\"><pre>RandomForestClassifier(n_jobs=-1, random_state=51)</pre></div></div></div></div></div>"
            ],
            "text/plain": [
              "RandomForestClassifier(n_jobs=-1, random_state=51)"
            ]
          },
          "execution_count": 354,
          "metadata": {},
          "output_type": "execute_result"
        }
      ],
      "source": [
        "model.fit(X_train, y_train)"
      ]
    },
    {
      "cell_type": "code",
      "execution_count": 355,
      "metadata": {},
      "outputs": [],
      "source": [
        "predictions = model.predict(X_test)"
      ]
    },
    {
      "cell_type": "markdown",
      "metadata": {},
      "source": [
        "#### RF Performance"
      ]
    },
    {
      "cell_type": "code",
      "execution_count": 356,
      "metadata": {},
      "outputs": [],
      "source": [
        "# libraries to check performance\n",
        "from sklearn.metrics import accuracy_score, confusion_matrix, f1_score,  recall_score"
      ]
    },
    {
      "cell_type": "code",
      "execution_count": 357,
      "metadata": {},
      "outputs": [],
      "source": [
        "# for 30 % test , accuracy_score = 91%\n",
        "# for 15 % test , accuracy_score = 93.3%    , for 10& test, accuracy si 90%\n"
      ]
    },
    {
      "cell_type": "code",
      "execution_count": 358,
      "metadata": {},
      "outputs": [
        {
          "name": "stdout",
          "output_type": "stream",
          "text": [
            "The accuracy of RF is 91.53 %\n",
            "The f1 score of RF is 94.74 %\n",
            "The recall of RF is 91.84 %\n"
          ]
        }
      ],
      "source": [
        "print(f\"The accuracy of RF is {accuracy_score(y_test, predictions) * 100:.2f} %\")\n",
        "print(f\"The f1 score of RF is {f1_score(y_test, predictions) * 100:.2f} %\") \n",
        "print(f\"The recall of RF is {recall_score(y_test, predictions) * 100:.2f} %\")"
      ]
    },
    {
      "cell_type": "markdown",
      "metadata": {},
      "source": [
        "Confusion matrix"
      ]
    },
    {
      "cell_type": "code",
      "execution_count": 359,
      "metadata": {},
      "outputs": [
        {
          "data": {
            "image/png": "[encoded data removed]",
            "text/plain": [
              "<Figure size 640x480 with 1 Axes>"
            ]
          },
          "metadata": {},
          "output_type": "display_data"
        }
      ],
      "source": [
        "sns.heatmap(confusion_matrix(y_test, predictions), annot=True, cbar=False);\n",
        "# TN   FP\n",
        "# FN*   TP - Recall"
      ]
    },
    {
      "cell_type": "markdown",
      "metadata": {},
      "source": [
        "XGboost"
      ]
    },
    {
      "cell_type": "markdown",
      "metadata": {},
      "source": [
        "Import Model"
      ]
    },
    {
      "cell_type": "code",
      "execution_count": 360,
      "metadata": {},
      "outputs": [],
      "source": [
        "from xgboost import XGBClassifier"
      ]
    },
    {
      "cell_type": "code",
      "execution_count": 361,
      "metadata": {},
      "outputs": [],
      "source": [
        "xgb = XGBClassifier(random_state=51)"
      ]
    },
    {
      "cell_type": "markdown",
      "metadata": {},
      "source": [
        "Train model and make predictions"
      ]
    },
    {
      "cell_type": "code",
      "execution_count": 362,
      "metadata": {},
      "outputs": [
        {
          "data": {
            "text/html": [
              "<style>#sk-container-id-23 {color: black;background-color: white;}#sk-container-id-23 pre{padding: 0;}#sk-container-id-23 div.sk-toggleable {background-color: white;}#sk-container-id-23 label.sk-toggleable__label {cursor: pointer;display: block;width: 100%;margin-bottom: 0;padding: 0.3em;box-sizing: border-box;text-align: center;}#sk-container-id-23 label.sk-toggleable__label-arrow:before {content: \"▸\";float: left;margin-right: 0.25em;color: #696969;}#sk-container-id-23 label.sk-toggleable__label-arrow:hover:before {color: black;}#sk-container-id-23 div.sk-estimator:hover label.sk-toggleable__label-arrow:before {color: black;}#sk-container-id-23 div.sk-toggleable__content {max-height: 0;max-width: 0;overflow: hidden;text-align: left;background-color: #f0f8ff;}#sk-container-id-23 div.sk-toggleable__content pre {margin: 0.2em;color: black;border-radius: 0.25em;background-color: #f0f8ff;}#sk-container-id-23 input.sk-toggleable__control:checked~div.sk-toggleable__content {max-height: 200px;max-width: 100%;overflow: auto;}#sk-container-id-23 input.sk-toggleable__control:checked~label.sk-toggleable__label-arrow:before {content: \"▾\";}#sk-container-id-23 div.sk-estimator input.sk-toggleable__control:checked~label.sk-toggleable__label {background-color: #d4ebff;}#sk-container-id-23 div.sk-label input.sk-toggleable__control:checked~label.sk-toggleable__label {background-color: #d4ebff;}#sk-container-id-23 input.sk-hidden--visually {border: 0;clip: rect(1px 1px 1px 1px);clip: rect(1px, 1px, 1px, 1px);height: 1px;margin: -1px;overflow: hidden;padding: 0;position: absolute;width: 1px;}#sk-container-id-23 div.sk-estimator {font-family: monospace;background-color: #f0f8ff;border: 1px dotted black;border-radius: 0.25em;box-sizing: border-box;margin-bottom: 0.5em;}#sk-container-id-23 div.sk-estimator:hover {background-color: #d4ebff;}#sk-container-id-23 div.sk-parallel-item::after {content: \"\";width: 100%;border-bottom: 1px solid gray;flex-grow: 1;}#sk-container-id-23 div.sk-label:hover label.sk-toggleable__label {background-color: #d4ebff;}#sk-container-id-23 div.sk-serial::before {content: \"\";position: absolute;border-left: 1px solid gray;box-sizing: border-box;top: 0;bottom: 0;left: 50%;z-index: 0;}#sk-container-id-23 div.sk-serial {display: flex;flex-direction: column;align-items: center;background-color: white;padding-right: 0.2em;padding-left: 0.2em;position: relative;}#sk-container-id-23 div.sk-item {position: relative;z-index: 1;}#sk-container-id-23 div.sk-parallel {display: flex;align-items: stretch;justify-content: center;background-color: white;position: relative;}#sk-container-id-23 div.sk-item::before, #sk-container-id-23 div.sk-parallel-item::before {content: \"\";position: absolute;border-left: 1px solid gray;box-sizing: border-box;top: 0;bottom: 0;left: 50%;z-index: -1;}#sk-container-id-23 div.sk-parallel-item {display: flex;flex-direction: column;z-index: 1;position: relative;background-color: white;}#sk-container-id-23 div.sk-parallel-item:first-child::after {align-self: flex-end;width: 50%;}#sk-container-id-23 div.sk-parallel-item:last-child::after {align-self: flex-start;width: 50%;}#sk-container-id-23 div.sk-parallel-item:only-child::after {width: 0;}#sk-container-id-23 div.sk-dashed-wrapped {border: 1px dashed gray;margin: 0 0.4em 0.5em 0.4em;box-sizing: border-box;padding-bottom: 0.4em;background-color: white;}#sk-container-id-23 div.sk-label label {font-family: monospace;font-weight: bold;display: inline-block;line-height: 1.2em;}#sk-container-id-23 div.sk-label-container {text-align: center;}#sk-container-id-23 div.sk-container {/* jupyter's `normalize.less` sets `[hidden] { display: none; }` but bootstrap.min.css set `[hidden] { display: none !important; }` so we also need the `!important` here to be able to override the default hidden behavior on the sphinx rendered scikit-learn.org. See: https://github.com/scikit-learn/scikit-learn/issues/21755 */display: inline-block !important;position: relative;}#sk-container-id-23 div.sk-text-repr-fallback {display: none;}</style><div id=\"sk-container-id-23\" class=\"sk-top-container\"><div class=\"sk-text-repr-fallback\"><pre>XGBClassifier(base_score=None, booster=None, callbacks=None,\n",
              "              colsample_bylevel=None, colsample_bynode=None,\n",
              "              colsample_bytree=None, device=None, early_stopping_rounds=None,\n",
              "              enable_categorical=False, eval_metric=None, feature_types=None,\n",
              "              gamma=None, grow_policy=None, importance_type=None,\n",
              "              interaction_constraints=None, learning_rate=None, max_bin=None,\n",
              "              max_cat_threshold=None, max_cat_to_onehot=None,\n",
              "              max_delta_step=None, max_depth=None, max_leaves=None,\n",
              "              min_child_weight=None, missing=nan, monotone_constraints=None,\n",
              "              multi_strategy=None, n_estimators=None, n_jobs=None,\n",
              "              num_parallel_tree=None, random_state=51, ...)</pre><b>In a Jupyter environment, please rerun this cell to show the HTML representation or trust the notebook. <br />On GitHub, the HTML representation is unable to render, please try loading this page with nbviewer.org.</b></div><div class=\"sk-container\" hidden><div class=\"sk-item\"><div class=\"sk-estimator sk-toggleable\"><input class=\"sk-toggleable__control sk-hidden--visually\" id=\"sk-estimator-id-23\" type=\"checkbox\" checked><label for=\"sk-estimator-id-23\" class=\"sk-toggleable__label sk-toggleable__label-arrow\">XGBClassifier</label><div class=\"sk-toggleable__content\"><pre>XGBClassifier(base_score=None, booster=None, callbacks=None,\n",
              "              colsample_bylevel=None, colsample_bynode=None,\n",
              "              colsample_bytree=None, device=None, early_stopping_rounds=None,\n",
              "              enable_categorical=False, eval_metric=None, feature_types=None,\n",
              "              gamma=None, grow_policy=None, importance_type=None,\n",
              "              interaction_constraints=None, learning_rate=None, max_bin=None,\n",
              "              max_cat_threshold=None, max_cat_to_onehot=None,\n",
              "              max_delta_step=None, max_depth=None, max_leaves=None,\n",
              "              min_child_weight=None, missing=nan, monotone_constraints=None,\n",
              "              multi_strategy=None, n_estimators=None, n_jobs=None,\n",
              "              num_parallel_tree=None, random_state=51, ...)</pre></div></div></div></div></div>"
            ],
            "text/plain": [
              "XGBClassifier(base_score=None, booster=None, callbacks=None,\n",
              "              colsample_bylevel=None, colsample_bynode=None,\n",
              "              colsample_bytree=None, device=None, early_stopping_rounds=None,\n",
              "              enable_categorical=False, eval_metric=None, feature_types=None,\n",
              "              gamma=None, grow_policy=None, importance_type=None,\n",
              "              interaction_constraints=None, learning_rate=None, max_bin=None,\n",
              "              max_cat_threshold=None, max_cat_to_onehot=None,\n",
              "              max_delta_step=None, max_depth=None, max_leaves=None,\n",
              "              min_child_weight=None, missing=nan, monotone_constraints=None,\n",
              "              multi_strategy=None, n_estimators=None, n_jobs=None,\n",
              "              num_parallel_tree=None, random_state=51, ...)"
            ]
          },
          "execution_count": 362,
          "metadata": {},
          "output_type": "execute_result"
        }
      ],
      "source": [
        "xgb.fit(X_train, y_train)"
      ]
    },
    {
      "cell_type": "code",
      "execution_count": 363,
      "metadata": {},
      "outputs": [],
      "source": [
        "predictions = xgb.predict(X_test)"
      ]
    },
    {
      "cell_type": "markdown",
      "metadata": {},
      "source": [
        "#### XGBoost Performance"
      ]
    },
    {
      "cell_type": "code",
      "execution_count": 364,
      "metadata": {},
      "outputs": [
        {
          "name": "stdout",
          "output_type": "stream",
          "text": [
            "The accuracy of XGBoost is 91.53 %\n",
            "The f1 score of XGBoost is 94.95 %\n",
            "The recall of XGBoost is 95.92 %\n"
          ]
        }
      ],
      "source": [
        "print(f\"The accuracy of XGBoost is {accuracy_score(y_test, predictions) * 100:.2f} %\")\n",
        "print(f\"The f1 score of XGBoost is {f1_score(y_test, predictions) * 100:.2f} %\") \n",
        "print(f\"The recall of XGBoost is {recall_score(y_test, predictions) * 100:.2f} %\")"
      ]
    },
    {
      "cell_type": "markdown",
      "metadata": {},
      "source": [
        "Confusion Matrix"
      ]
    },
    {
      "cell_type": "code",
      "execution_count": 365,
      "metadata": {},
      "outputs": [
        {
          "data": {
            "image/png": "[encoded data removed]",
            "text/plain": [
              "<Figure size 640x480 with 1 Axes>"
            ]
          },
          "metadata": {},
          "output_type": "display_data"
        }
      ],
      "source": [
        "sns.heatmap(confusion_matrix(y_test, predictions), annot=True, cbar=False);\n",
        "# TN   FP\n",
        "# FN*   TP - Recall"
      ]
    },
    {
      "cell_type": "markdown",
      "metadata": {},
      "source": [
        "### SVM"
      ]
    },
    {
      "cell_type": "markdown",
      "metadata": {},
      "source": [
        "Import Model"
      ]
    },
    {
      "cell_type": "code",
      "execution_count": 366,
      "metadata": {},
      "outputs": [],
      "source": [
        "from sklearn.svm import SVC"
      ]
    },
    {
      "cell_type": "code",
      "execution_count": 367,
      "metadata": {},
      "outputs": [],
      "source": [
        "svm = SVC()"
      ]
    },
    {
      "cell_type": "markdown",
      "metadata": {},
      "source": [
        "Train model and make predictions"
      ]
    },
    {
      "cell_type": "code",
      "execution_count": 368,
      "metadata": {},
      "outputs": [
        {
          "data": {
            "text/html": [
              "<style>#sk-container-id-24 {color: black;background-color: white;}#sk-container-id-24 pre{padding: 0;}#sk-container-id-24 div.sk-toggleable {background-color: white;}#sk-container-id-24 label.sk-toggleable__label {cursor: pointer;display: block;width: 100%;margin-bottom: 0;padding: 0.3em;box-sizing: border-box;text-align: center;}#sk-container-id-24 label.sk-toggleable__label-arrow:before {content: \"▸\";float: left;margin-right: 0.25em;color: #696969;}#sk-container-id-24 label.sk-toggleable__label-arrow:hover:before {color: black;}#sk-container-id-24 div.sk-estimator:hover label.sk-toggleable__label-arrow:before {color: black;}#sk-container-id-24 div.sk-toggleable__content {max-height: 0;max-width: 0;overflow: hidden;text-align: left;background-color: #f0f8ff;}#sk-container-id-24 div.sk-toggleable__content pre {margin: 0.2em;color: black;border-radius: 0.25em;background-color: #f0f8ff;}#sk-container-id-24 input.sk-toggleable__control:checked~div.sk-toggleable__content {max-height: 200px;max-width: 100%;overflow: auto;}#sk-container-id-24 input.sk-toggleable__control:checked~label.sk-toggleable__label-arrow:before {content: \"▾\";}#sk-container-id-24 div.sk-estimator input.sk-toggleable__control:checked~label.sk-toggleable__label {background-color: #d4ebff;}#sk-container-id-24 div.sk-label input.sk-toggleable__control:checked~label.sk-toggleable__label {background-color: #d4ebff;}#sk-container-id-24 input.sk-hidden--visually {border: 0;clip: rect(1px 1px 1px 1px);clip: rect(1px, 1px, 1px, 1px);height: 1px;margin: -1px;overflow: hidden;padding: 0;position: absolute;width: 1px;}#sk-container-id-24 div.sk-estimator {font-family: monospace;background-color: #f0f8ff;border: 1px dotted black;border-radius: 0.25em;box-sizing: border-box;margin-bottom: 0.5em;}#sk-container-id-24 div.sk-estimator:hover {background-color: #d4ebff;}#sk-container-id-24 div.sk-parallel-item::after {content: \"\";width: 100%;border-bottom: 1px solid gray;flex-grow: 1;}#sk-container-id-24 div.sk-label:hover label.sk-toggleable__label {background-color: #d4ebff;}#sk-container-id-24 div.sk-serial::before {content: \"\";position: absolute;border-left: 1px solid gray;box-sizing: border-box;top: 0;bottom: 0;left: 50%;z-index: 0;}#sk-container-id-24 div.sk-serial {display: flex;flex-direction: column;align-items: center;background-color: white;padding-right: 0.2em;padding-left: 0.2em;position: relative;}#sk-container-id-24 div.sk-item {position: relative;z-index: 1;}#sk-container-id-24 div.sk-parallel {display: flex;align-items: stretch;justify-content: center;background-color: white;position: relative;}#sk-container-id-24 div.sk-item::before, #sk-container-id-24 div.sk-parallel-item::before {content: \"\";position: absolute;border-left: 1px solid gray;box-sizing: border-box;top: 0;bottom: 0;left: 50%;z-index: -1;}#sk-container-id-24 div.sk-parallel-item {display: flex;flex-direction: column;z-index: 1;position: relative;background-color: white;}#sk-container-id-24 div.sk-parallel-item:first-child::after {align-self: flex-end;width: 50%;}#sk-container-id-24 div.sk-parallel-item:last-child::after {align-self: flex-start;width: 50%;}#sk-container-id-24 div.sk-parallel-item:only-child::after {width: 0;}#sk-container-id-24 div.sk-dashed-wrapped {border: 1px dashed gray;margin: 0 0.4em 0.5em 0.4em;box-sizing: border-box;padding-bottom: 0.4em;background-color: white;}#sk-container-id-24 div.sk-label label {font-family: monospace;font-weight: bold;display: inline-block;line-height: 1.2em;}#sk-container-id-24 div.sk-label-container {text-align: center;}#sk-container-id-24 div.sk-container {/* jupyter's `normalize.less` sets `[hidden] { display: none; }` but bootstrap.min.css set `[hidden] { display: none !important; }` so we also need the `!important` here to be able to override the default hidden behavior on the sphinx rendered scikit-learn.org. See: https://github.com/scikit-learn/scikit-learn/issues/21755 */display: inline-block !important;position: relative;}#sk-container-id-24 div.sk-text-repr-fallback {display: none;}</style><div id=\"sk-container-id-24\" class=\"sk-top-container\"><div class=\"sk-text-repr-fallback\"><pre>SVC()</pre><b>In a Jupyter environment, please rerun this cell to show the HTML representation or trust the notebook. <br />On GitHub, the HTML representation is unable to render, please try loading this page with nbviewer.org.</b></div><div class=\"sk-container\" hidden><div class=\"sk-item\"><div class=\"sk-estimator sk-toggleable\"><input class=\"sk-toggleable__control sk-hidden--visually\" id=\"sk-estimator-id-24\" type=\"checkbox\" checked><label for=\"sk-estimator-id-24\" class=\"sk-toggleable__label sk-toggleable__label-arrow\">SVC</label><div class=\"sk-toggleable__content\"><pre>SVC()</pre></div></div></div></div></div>"
            ],
            "text/plain": [
              "SVC()"
            ]
          },
          "execution_count": 368,
          "metadata": {},
          "output_type": "execute_result"
        }
      ],
      "source": [
        "svm.fit(X_train, y_train)"
      ]
    },
    {
      "cell_type": "code",
      "execution_count": 369,
      "metadata": {},
      "outputs": [],
      "source": [
        "predictions = svm.predict(X_test)"
      ]
    },
    {
      "cell_type": "markdown",
      "metadata": {},
      "source": [
        "#### SVM Performance"
      ]
    },
    {
      "cell_type": "code",
      "execution_count": 370,
      "metadata": {},
      "outputs": [
        {
          "name": "stdout",
          "output_type": "stream",
          "text": [
            "The accuracy of SVM is 86.44 %\n",
            "The f1 score of SVM is 91.30 %\n",
            "The recall of SVM is 85.71 %\n"
          ]
        }
      ],
      "source": [
        "print(f\"The accuracy of SVM is {accuracy_score(y_test, predictions) * 100:.2f} %\")\n",
        "print(f\"The f1 score of SVM is {f1_score(y_test, predictions) * 100:.2f} %\") \n",
        "print(f\"The recall of SVM is {recall_score(y_test, predictions) * 100:.2f} %\")"
      ]
    },
    {
      "cell_type": "markdown",
      "metadata": {},
      "source": [
        "Confusion Matrix"
      ]
    },
    {
      "cell_type": "code",
      "execution_count": 371,
      "metadata": {},
      "outputs": [
        {
          "data": {
            "image/png": "[encoded data removed]",
            "text/plain": [
              "<Figure size 640x480 with 1 Axes>"
            ]
          },
          "metadata": {},
          "output_type": "display_data"
        }
      ],
      "source": [
        "sns.heatmap(confusion_matrix(y_test, predictions), annot=True, cbar=False);\n",
        "# TN   FP\n",
        "# FN*   TP - Recall"
      ]
    },
    {
      "cell_type": "code",
      "execution_count": null,
      "metadata": {},
      "outputs": [],
      "source": []
    },
    {
      "cell_type": "markdown",
      "metadata": {},
      "source": [
        "### Most important features\n",
        "Here we check the top 10 most important features that contribute to the prediction of parkinsons\n",
        "* spread1\n",
        "* MDVP:Fo(Hz)\n",
        "* PPE\n",
        "* MDVP:Fhi(Hz)\n",
        "* spread2\n",
        "* MDVP:APQ\n",
        "* MDVP:Flo(Hz)\n",
        "* Shimmer:APQ5\n",
        "* MDVP:PPQ\n",
        "* MDVP:Shimmer\n"
      ]
    },
    {
      "cell_type": "code",
      "execution_count": 372,
      "metadata": {},
      "outputs": [],
      "source": [
        "importance_df = pd.DataFrame({\n",
        "    \"Feature\" : features,\n",
        "    \"Importance\" : model.feature_importances_}).sort_values(\"Importance\", ascending=False)"
      ]
    },
    {
      "cell_type": "code",
      "execution_count": 373,
      "metadata": {},
      "outputs": [
        {
          "data": {
            "image/png": "[encoded data removed]",
            "text/plain": [
              "<Figure size 1000x600 with 1 Axes>"
            ]
          },
          "metadata": {},
          "output_type": "display_data"
        }
      ],
      "source": [
        "plt.figure(figsize=[10,6])\n",
        "plt.title(\"Most Important Features\")\n",
        "colors = sns.color_palette(\"viridis\", n_colors=len(importance_df.head(10)))\n",
        "\n",
        "sns.barplot(data=importance_df.head(10), x=\"Feature\", y=\"Importance\", palette=colors, hue=\"Feature\", dodge=False);\n",
        "plt.xticks(rotation=45, ha=\"right\");  # Rotate x-axis labels for better readability\n",
        "plt.xlabel(\"Feature\");\n",
        "plt.ylabel(\"Importance\");\n",
        "plt.legend(labels=[]);  # Explicitly pass an empty list to suppress the warning\n",
        "  # Hide legend as it's not necessary when each bar corresponds to a single feature\n"
      ]
    },
    {
      "cell_type": "markdown",
      "metadata": {},
      "source": [
        "### Saving The Model"
      ]
    },
    {
      "cell_type": "markdown",
      "metadata": {},
      "source": [
        "Random Forest had the best recall and F1 score so that would be our final model"
      ]
    },
    {
      "cell_type": "code",
      "execution_count": 374,
      "metadata": {},
      "outputs": [
        {
          "data": {
            "text/plain": [
              "['tools/model_joblib']"
            ]
          },
          "execution_count": 374,
          "metadata": {},
          "output_type": "execute_result"
        }
      ],
      "source": [
        "joblib.dump(model, \"tools/model_joblib\")"
      ]
    }
  ],
  "metadata": {
    "colab": {
      "collapsed_sections": [],
      "name": "Project 14. Parkinson's Disease Detection.ipynb",
      "provenance": []
    },
    "kernelspec": {
      "display_name": "Python 3.9.12 ('base')",
      "language": "python",
      "name": "python3"
    },
    "language_info": {
      "codemirror_mode": {
        "name": "ipython",
        "version": 3
      },
      "file_extension": ".py",
      "mimetype": "text/x-python",
      "name": "python",
      "nbconvert_exporter": "python",
      "pygments_lexer": "ipython3",
      "version": "3.11.3"
    },
    "vscode": {
      "interpreter": {
        "hash": "397fa5c989aefacd265b089cd9fa90a007575229207dba4eead3a1aa550249df"
      }
    }
  },
  "nbformat": 4,
  "nbformat_minor": 0
}
